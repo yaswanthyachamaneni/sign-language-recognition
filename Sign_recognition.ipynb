{
 "cells": [
  {
   "cell_type": "code",
   "execution_count": 1,
   "id": "e88c73f5",
   "metadata": {},
   "outputs": [],
   "source": [
    "import os\n",
    "import numpy as np\n",
    "import cv2\n",
    "import matplotlib.pyplot as plt\n",
    "from keras import models\n",
    "from gtts import gTTS\n",
    "from playsound import playsound"
   ]
  },
  {
   "cell_type": "code",
   "execution_count": 2,
   "id": "10729f88",
   "metadata": {},
   "outputs": [],
   "source": [
    "model = models.load_model('new_model6.h5')"
   ]
  },
  {
   "cell_type": "code",
   "execution_count": 3,
   "id": "9debe57d",
   "metadata": {},
   "outputs": [],
   "source": [
    "gestures ={1:'hello',\n",
    "             2:'Liked',\n",
    "              3:'No',\n",
    "              4:'Out',\n",
    "              5:'yes' }"
   ]
  },
  {
   "cell_type": "code",
   "execution_count": 19,
   "id": "ce38a538",
   "metadata": {},
   "outputs": [],
   "source": [
    "def predict(gesture):\n",
    "    img = cv2.resize(gesture, (50,50))\n",
    "    img = img.reshape(1,50,50,1)\n",
    "    img = img/255.0\n",
    "    prd = model.predict(img)\n",
    "    index = prd.argmax()\n",
    "    return gestures[index]"
   ]
  },
  {
   "cell_type": "code",
   "execution_count": 20,
   "id": "83e0fa6f",
   "metadata": {},
   "outputs": [],
   "source": [
    "vc = cv2.VideoCapture(0)\n",
    "rval, frame = vc.read()\n",
    "old_text = ''\n",
    "pred_text = ''\n",
    "count_frames = 0\n",
    "total_str = ''\n",
    "flag = False\n",
    "str=''"
   ]
  },
  {
   "cell_type": "code",
   "execution_count": 21,
   "id": "f0211a28",
   "metadata": {},
   "outputs": [
    {
     "name": "stdout",
     "output_type": "stream",
     "text": [
      "helloOutOutyesyesOutOutOut\n"
     ]
    }
   ],
   "source": [
    "while True:\n",
    "    \n",
    "    if frame is not None: \n",
    "        \n",
    "        frame = cv2.flip(frame, 1)\n",
    "        frame = cv2.resize( frame, (400,400) )\n",
    "        \n",
    "        cv2.rectangle(frame, (300,300), (100,100), (0,255,0), 2)\n",
    "        \n",
    "        crop_img = frame[100:300, 100:300]\n",
    "        grey = cv2.cvtColor(crop_img, cv2.COLOR_BGR2GRAY)\n",
    "        \n",
    "        thresh = cv2.threshold(grey,210,255,cv2.THRESH_BINARY_INV+cv2.THRESH_OTSU)[1]\n",
    "      \n",
    "        \n",
    "        blackboard = np.zeros(frame.shape, dtype=np.uint8)\n",
    "        cv2.putText(blackboard, \"Predicted text - \", (30, 40), cv2.FONT_HERSHEY_TRIPLEX, 1, (255, 255, 0))\n",
    "        if count_frames > 20 and pred_text != \"\":\n",
    "            total_str += pred_text\n",
    "            str +=pred_text\n",
    "            count_frames = 0\n",
    "            \n",
    "        if flag == True:\n",
    "            old_text = pred_text\n",
    "            pred_text = predict(thresh)\n",
    "        \n",
    "            if old_text == pred_text:\n",
    "                count_frames += 1\n",
    "            else:\n",
    "                count_frames = 0\n",
    "            cv2.putText(blackboard, total_str, (30, 80), cv2.FONT_HERSHEY_TRIPLEX, 1, (255, 255, 127))\n",
    "        res = np.hstack((frame, blackboard))\n",
    "        \n",
    "        cv2.imshow(\"image\", res)\n",
    "        cv2.imshow(\"hand\", thresh)\n",
    "        \n",
    "    rval, frame = vc.read()\n",
    "    keypress = cv2.waitKey(1)\n",
    "    if keypress == ord('c'):\n",
    "        flag = True\n",
    "    if keypress == ord('q'):\n",
    "        break\n",
    "\n",
    "vc.release()\n",
    "cv2.destroyAllWindows()\n",
    "cv2.waitKey(1)\n",
    "print(str)"
   ]
  },
  {
   "cell_type": "code",
   "execution_count": 7,
   "id": "60685d25",
   "metadata": {},
   "outputs": [],
   "source": [
    "vc.release()"
   ]
  },
  {
   "cell_type": "code",
   "execution_count": 9,
   "id": "824d5749",
   "metadata": {},
   "outputs": [
    {
     "name": "stdout",
     "output_type": "stream",
     "text": [
      "Requirement already satisfied: gtts in c:\\anaconda\\lib\\site-packages (2.2.3)\n",
      "Requirement already satisfied: requests in c:\\anaconda\\lib\\site-packages (from gtts) (2.25.1)\n",
      "Requirement already satisfied: six in c:\\anaconda\\lib\\site-packages (from gtts) (1.15.0)\n",
      "Requirement already satisfied: click in c:\\anaconda\\lib\\site-packages (from gtts) (7.1.2)\n",
      "Requirement already satisfied: idna<3,>=2.5 in c:\\anaconda\\lib\\site-packages (from requests->gtts) (2.10)\n",
      "Requirement already satisfied: certifi>=2017.4.17 in c:\\anaconda\\lib\\site-packages (from requests->gtts) (2020.12.5)\n",
      "Requirement already satisfied: chardet<5,>=3.0.2 in c:\\anaconda\\lib\\site-packages (from requests->gtts) (4.0.0)\n",
      "Requirement already satisfied: urllib3<1.27,>=1.21.1 in c:\\anaconda\\lib\\site-packages (from requests->gtts) (1.26.4)\n",
      "Note: you may need to restart the kernel to use updated packages.\n"
     ]
    }
   ],
   "source": [
    "pip install gtts"
   ]
  },
  {
   "cell_type": "code",
   "execution_count": 8,
   "id": "819a6be3",
   "metadata": {},
   "outputs": [],
   "source": [
    "audio='speech.mp3'\n",
    "language='en'\n",
    "sp=gTTS(text=str,lang=language,slow=False)\n",
    "sp.save(audio)\n",
    "playsound(audio)"
   ]
  },
  {
   "cell_type": "code",
   "execution_count": 10,
   "id": "9d985270",
   "metadata": {},
   "outputs": [],
   "source": [
    "playsound(audio)"
   ]
  },
  {
   "cell_type": "code",
   "execution_count": null,
   "id": "bc6255e8",
   "metadata": {},
   "outputs": [],
   "source": []
  }
 ],
 "metadata": {
  "kernelspec": {
   "display_name": "Python 3",
   "language": "python",
   "name": "python3"
  },
  "language_info": {
   "codemirror_mode": {
    "name": "ipython",
    "version": 3
   },
   "file_extension": ".py",
   "mimetype": "text/x-python",
   "name": "python",
   "nbconvert_exporter": "python",
   "pygments_lexer": "ipython3",
   "version": "3.8.8"
  }
 },
 "nbformat": 4,
 "nbformat_minor": 5
}
